{
 "cells": [
  {
   "cell_type": "markdown",
   "metadata": {},
   "source": [
    "# Research Project - Google Colab版\n",
    "\n",
    "このノートブックは研究プロジェクトをGoogle Colabで実行するためのものです。"
   ]
  },
  {
   "cell_type": "markdown",
   "metadata": {},
   "source": [
    "## 1. 環境セットアップ"
   ]
  },
  {
   "cell_type": "code",
   "execution_count": null,
   "metadata": {},
   "outputs": [],
   "source": [
    "# Colabかどうかの確認\n",
    "try:\n",
    "    import google.colab\n",
    "    IN_COLAB = True\n",
    "    print(\"✅ Google Colab環境で実行中\")\n",
    "except:\n",
    "    IN_COLAB = False\n",
    "    print(\"❌ ローカル環境で実行中\")"
   ]
  },
  {
   "cell_type": "code",
   "execution_count": null,
   "metadata": {},
   "outputs": [],
   "source": [
    "# 必要なライブラリのインストール\n",
    "if IN_COLAB:\n",
    "    !pip install -q numpy pandas matplotlib seaborn plotly beautifulsoup4 requests"
   ]
  },
  {
   "cell_type": "code",
   "execution_count": null,
   "metadata": {},
   "outputs": [],
   "source": [
    "# Google Driveのマウント\n",
    "if IN_COLAB:\n",
    "    from google.colab import drive\n",
    "    drive.mount('/content/drive')"
   ]
  },
  {
   "cell_type": "code",
   "execution_count": null,
   "metadata": {},
   "outputs": [],
   "source": [
    "# GitHubからプロジェクトをクローン（必要に応じて）\n",
    "# !git clone https://github.com/yourusername/research-project.git /content/research-project\n",
    "# %cd /content/research-project"
   ]
  },
  {
   "cell_type": "markdown",
   "metadata": {},
   "source": [
    "## 2. プロジェクトファイルのアップロード"
   ]
  },
  {
   "cell_type": "code",
   "execution_count": null,
   "metadata": {},
   "outputs": [],
   "source": [
    "# ローカルファイルのアップロード\n",
    "if IN_COLAB:\n",
    "    from google.colab import files\n",
    "    \n",
    "    print(\"プロジェクトファイルをアップロードしてください:\")\n",
    "    uploaded = files.upload()\n",
    "    \n",
    "    for filename in uploaded.keys():\n",
    "        print(f'Uploaded: {filename}')"
   ]
  },
  {
   "cell_type": "markdown",
   "metadata": {},
   "source": [
    "## 3. メインスクリプトの実行"
   ]
  },
  {
   "cell_type": "code",
   "execution_count": null,
   "metadata": {},
   "outputs": [],
   "source": [
    "# 共通のインポート\n",
    "import os\n",
    "import sys\n",
    "import json\n",
    "import datetime\n",
    "import subprocess\n",
    "from pathlib import Path"
   ]
  },
  {
   "cell_type": "code",
   "execution_count": null,
   "metadata": {},
   "outputs": [],
   "source": [
    "# Colab用の作業ディレクトリ設定\n",
    "if IN_COLAB:\n",
    "    WORK_DIR = '/content/research_project'\n",
    "    if not os.path.exists(WORK_DIR):\n",
    "        os.makedirs(WORK_DIR)\n",
    "    os.chdir(WORK_DIR)\n",
    "else:\n",
    "    WORK_DIR = os.getcwd()\n",
    "\n",
    "print(f\"作業ディレクトリ: {WORK_DIR}\")"
   ]
  },
  {
   "cell_type": "markdown",
   "metadata": {},
   "source": [
    "## 4. 自動整理・保存システム"
   ]
  },
  {
   "cell_type": "code",
   "execution_count": null,
   "metadata": {},
   "outputs": [],
   "source": [
    "# auto_organize_and_save.pyの内容をColab用に適応\n",
    "def auto_organize_and_save_colab():\n",
    "    \"\"\"Colab環境用の自動整理・保存関数\"\"\"\n",
    "    print(\"=\" * 50)\n",
    "    print(\"🔄 自動整理・保存システム (Colab版)\")\n",
    "    print(\"=\" * 50)\n",
    "    \n",
    "    # セッションディレクトリの作成\n",
    "    session_dir = os.path.join(WORK_DIR, 'sessions')\n",
    "    if not os.path.exists(session_dir):\n",
    "        os.makedirs(session_dir)\n",
    "    \n",
    "    # 現在の日時\n",
    "    now = datetime.datetime.now()\n",
    "    date_str = now.strftime('%Y-%m-%d')\n",
    "    time_str = now.strftime('%H:%M:%S')\n",
    "    \n",
    "    # セッションファイル名\n",
    "    session_file = os.path.join(session_dir, f'AUTO_SESSION_SAVE_{date_str}.md')\n",
    "    \n",
    "    # セッション内容の作成\n",
    "    content = f\"\"\"# 🔄 自動セッション保存 - {date_str}\n",
    "\n",
    "## 📅 実行情報\n",
    "- **実行時刻**: {time_str}\n",
    "- **環境**: Google Colab\n",
    "- **作業ディレクトリ**: {WORK_DIR}\n",
    "\n",
    "## 📁 ファイル状態\n",
    "\"\"\"\n",
    "    \n",
    "    # ファイル一覧の取得\n",
    "    for root, dirs, files in os.walk(WORK_DIR):\n",
    "        # sessions, __pycache__などを除外\n",
    "        dirs[:] = [d for d in dirs if not d.startswith('.') and d not in ['__pycache__', 'sessions']]\n",
    "        \n",
    "        level = root.replace(WORK_DIR, '').count(os.sep)\n",
    "        indent = ' ' * 2 * level\n",
    "        content += f\"{indent}{os.path.basename(root)}/\\n\"\n",
    "        \n",
    "        sub_indent = ' ' * 2 * (level + 1)\n",
    "        for file in files:\n",
    "            if not file.startswith('.') and not file.endswith('.pyc'):\n",
    "                content += f\"{sub_indent}{file}\\n\"\n",
    "    \n",
    "    content += \"\\n## ✅ 完了\\n\"\n",
    "    content += f\"セッションが {time_str} に保存されました。\\n\"\n",
    "    \n",
    "    # ファイルに保存\n",
    "    with open(session_file, 'w', encoding='utf-8') as f:\n",
    "        f.write(content)\n",
    "    \n",
    "    print(f\"✅ セッションを保存しました: {session_file}\")\n",
    "    \n",
    "    # Google Driveにも保存（マウントされている場合）\n",
    "    if IN_COLAB and os.path.exists('/content/drive/MyDrive'):\n",
    "        drive_backup_dir = '/content/drive/MyDrive/research_backup'\n",
    "        if not os.path.exists(drive_backup_dir):\n",
    "            os.makedirs(drive_backup_dir)\n",
    "        \n",
    "        drive_session_file = os.path.join(drive_backup_dir, f'AUTO_SESSION_SAVE_{date_str}.md')\n",
    "        with open(drive_session_file, 'w', encoding='utf-8') as f:\n",
    "            f.write(content)\n",
    "        \n",
    "        print(f\"✅ Google Driveにもバックアップしました: {drive_session_file}\")\n",
    "\n",
    "# 実行\n",
    "auto_organize_and_save_colab()"
   ]
  },
  {
   "cell_type": "markdown",
   "metadata": {},
   "source": [
    "## 5. Vercel統合システム (Colab版)"
   ]
  },
  {
   "cell_type": "code",
   "execution_count": null,
   "metadata": {},
   "outputs": [],
   "source": [
    "# Vercel CLIのインストール（必要な場合）\n",
    "if IN_COLAB:\n",
    "    !npm install -g vercel"
   ]
  },
  {
   "cell_type": "code",
   "execution_count": null,
   "metadata": {},
   "outputs": [],
   "source": [
    "# Vercel設定の確認\n",
    "def check_vercel_config():\n",
    "    \"\"\"Vercel設定をチェック\"\"\"\n",
    "    vercel_json_path = os.path.join(WORK_DIR, 'vercel.json')\n",
    "    \n",
    "    if os.path.exists(vercel_json_path):\n",
    "        with open(vercel_json_path, 'r') as f:\n",
    "            config = json.load(f)\n",
    "        print(\"✅ vercel.json found:\")\n",
    "        print(json.dumps(config, indent=2))\n",
    "    else:\n",
    "        print(\"⚠️ vercel.json not found. Creating default config...\")\n",
    "        default_config = {\n",
    "            \"buildCommand\": \"echo 'No build required'\",\n",
    "            \"outputDirectory\": \"public\",\n",
    "            \"framework\": null\n",
    "        }\n",
    "        with open(vercel_json_path, 'w') as f:\n",
    "            json.dump(default_config, f, indent=2)\n",
    "        print(\"✅ Created default vercel.json\")\n",
    "\n",
    "check_vercel_config()"
   ]
  },
  {
   "cell_type": "markdown",
   "metadata": {},
   "source": [
    "## 6. ユーティリティ関数"
   ]
  },
  {
   "cell_type": "code",
   "execution_count": null,
   "metadata": {},
   "outputs": [],
   "source": [
    "# ファイルダウンロード関数\n",
    "def download_files(file_patterns):\n",
    "    \"\"\"指定されたパターンのファイルをダウンロード\"\"\"\n",
    "    if not IN_COLAB:\n",
    "        print(\"This function is for Colab only\")\n",
    "        return\n",
    "    \n",
    "    from google.colab import files\n",
    "    import glob\n",
    "    \n",
    "    for pattern in file_patterns:\n",
    "        for file_path in glob.glob(pattern):\n",
    "            print(f\"Downloading: {file_path}\")\n",
    "            files.download(file_path)\n",
    "\n",
    "# 使用例\n",
    "# download_files(['*.html', 'public/*.html'])"
   ]
  },
  {
   "cell_type": "code",
   "execution_count": null,
   "metadata": {},
   "outputs": [],
   "source": [
    "# プロジェクトをZIPファイルとしてダウンロード\n",
    "def download_project_as_zip():\n",
    "    \"\"\"プロジェクト全体をZIPファイルとしてダウンロード\"\"\"\n",
    "    if not IN_COLAB:\n",
    "        print(\"This function is for Colab only\")\n",
    "        return\n",
    "    \n",
    "    import shutil\n",
    "    from google.colab import files\n",
    "    \n",
    "    zip_name = f\"research_project_{datetime.datetime.now().strftime('%Y%m%d_%H%M%S')}\"\n",
    "    shutil.make_archive(zip_name, 'zip', WORK_DIR)\n",
    "    \n",
    "    files.download(f\"{zip_name}.zip\")\n",
    "    print(f\"✅ Downloaded: {zip_name}.zip\")\n",
    "\n",
    "# 実行する場合はコメントを外してください\n",
    "# download_project_as_zip()"
   ]
  },
  {
   "cell_type": "markdown",
   "metadata": {},
   "source": [
    "## 7. 定期実行タスク（Colab Pro用）"
   ]
  },
  {
   "cell_type": "code",
   "execution_count": null,
   "metadata": {},
   "outputs": [],
   "source": [
    "# Colab Proで長時間実行する場合の定期保存\n",
    "import time\n",
    "import threading\n",
    "\n",
    "def periodic_save(interval_minutes=30):\n",
    "    \"\"\"定期的に作業を保存\"\"\"\n",
    "    def save_task():\n",
    "        while True:\n",
    "            time.sleep(interval_minutes * 60)\n",
    "            try:\n",
    "                auto_organize_and_save_colab()\n",
    "                print(f\"⏰ 定期保存完了 ({datetime.datetime.now().strftime('%H:%M:%S')})\")\n",
    "            except Exception as e:\n",
    "                print(f\"❌ 定期保存エラー: {e}\")\n",
    "    \n",
    "    # バックグラウンドスレッドで実行\n",
    "    thread = threading.Thread(target=save_task, daemon=True)\n",
    "    thread.start()\n",
    "    print(f\"✅ 定期保存を開始しました（{interval_minutes}分ごと）\")\n",
    "\n",
    "# 定期保存を有効にする場合はコメントを外してください\n",
    "# periodic_save(30)"
   ]
  },
  {
   "cell_type": "markdown",
   "metadata": {},
   "source": [
    "## 8. プロジェクト固有のコード実行\n",
    "\n",
    "ここに研究プロジェクト固有のコードを追加してください。"
   ]
  },
  {
   "cell_type": "code",
   "execution_count": null,
   "metadata": {},
   "outputs": [],
   "source": [
    "# プロジェクト固有のコードをここに追加\n",
    "# 例: データ分析、可視化、モデル学習など"
   ]
  }
 ],
 "metadata": {
  "colab": {
   "provenance": []
  },
  "kernelspec": {
   "display_name": "Python 3",
   "language": "python",
   "name": "python3"
  },
  "language_info": {
   "codemirror_mode": {
    "name": "ipython",
    "version": 3
   },
   "file_extension": ".py",
   "mimetype": "text/x-python",
   "name": "python",
   "nbconvert_exporter": "python",
   "pygments_lexer": "ipython3",
   "version": "3.8.0"
  }
 },
 "nbformat": 4,
 "nbformat_minor": 4
}